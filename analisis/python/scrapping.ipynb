{
  "nbformat": 4,
  "nbformat_minor": 0,
  "metadata": {
    "colab": {
      "provenance": [],
      "collapsed_sections": [
        "bfHBIpGMjHjW"
      ]
    },
    "kernelspec": {
      "name": "python3",
      "display_name": "Python 3"
    },
    "language_info": {
      "name": "python"
    }
  },
  "cells": [
    {
      "cell_type": "code",
      "execution_count": null,
      "metadata": {
        "id": "KPfLkeKhCdnQ"
      },
      "outputs": [],
      "source": [
        "!pip install LanusStats"
      ]
    },
    {
      "cell_type": "code",
      "source": [
        "import LanusStats as ls\n",
        "import pandas as pd\n",
        "import re\n",
        "import glob\n",
        "from bs4 import BeautifulSoup"
      ],
      "metadata": {
        "id": "Qa2f2hroCt0K"
      },
      "execution_count": null,
      "outputs": []
    },
    {
      "cell_type": "markdown",
      "source": [
        "# Scrapping Estadísticas de partidos"
      ],
      "metadata": {
        "id": "bfHBIpGMjHjW"
      }
    },
    {
      "cell_type": "code",
      "source": [
        "fbref = ls.Fbref()"
      ],
      "metadata": {
        "id": "r2PK-4iOCz_6"
      },
      "execution_count": null,
      "outputs": []
    },
    {
      "cell_type": "code",
      "source": [
        "\n",
        "base_path = \"https://fbref.com/\"\n",
        "\n",
        "def extract_match_links(file_path):\n",
        "    # Open and read the HTML file\n",
        "    with open(file_path, \"r\", encoding=\"utf-8\") as file:\n",
        "        soup = BeautifulSoup(file, \"html.parser\")\n",
        "\n",
        "    # Find all <td> elements with class \"center\" and data-stat=\"score\"\n",
        "    td_tags = soup.find_all(\"td\", class_=\"left\", attrs={\"data-stat\": \"match_report\"})\n",
        "\n",
        "    links = []\n",
        "    for td in td_tags:\n",
        "        a_tag = td.find(\"a\")\n",
        "        if a_tag and a_tag.has_attr(\"href\"):\n",
        "            links.append(base_path + a_tag[\"href\"])\n",
        "\n",
        "    return links\n",
        "\n",
        "links = extract_match_links(\"partidos_18_19.html\")"
      ],
      "metadata": {
        "id": "qha2Om13JBsz"
      },
      "execution_count": null,
      "outputs": []
    },
    {
      "cell_type": "code",
      "source": [
        "print(links)"
      ],
      "metadata": {
        "id": "gyqVnHcgg7AI",
        "colab": {
          "base_uri": "https://localhost:8080/"
        },
        "outputId": "53e43c5c-ab1c-42d2-c1e4-6dda7026e4c6"
      },
      "execution_count": null,
      "outputs": [
        {
          "output_type": "stream",
          "name": "stdout",
          "text": [
            "['https://fbref.com//en/matches/82b4ca95/Girona-Valladolid-August-17-2018-La-Liga', 'https://fbref.com//en/matches/9fe3febe/Real-Betis-Levante-August-17-2018-La-Liga', 'https://fbref.com//en/matches/a8d60ff6/Celta-Vigo-Espanyol-August-18-2018-La-Liga', 'https://fbref.com//en/matches/aeeb77fc/Villarreal-Real-Sociedad-August-18-2018-La-Liga', 'https://fbref.com//en/matches/e95b2588/Barcelona-Alaves-August-18-2018-La-Liga', 'https://fbref.com//en/matches/446f0d99/Eibar-Huesca-August-19-2018-La-Liga', 'https://fbref.com//en/matches/d1aa3271/Rayo-Vallecano-Sevilla-August-19-2018-La-Liga', 'https://fbref.com//en/matches/25f5e47e/Real-Madrid-Getafe-August-19-2018-La-Liga', 'https://fbref.com//en/matches/1202acb1/Valencia-Atletico-Madrid-August-20-2018-La-Liga', 'https://fbref.com//en/matches/95ac7d44/Athletic-Club-Leganes-August-20-2018-La-Liga', 'https://fbref.com//en/matches/aed2b90b/Getafe-Eibar-August-24-2018-La-Liga', 'https://fbref.com//en/matches/75220ead/Leganes-Real-Sociedad-August-24-2018-La-Liga', 'https://fbref.com//en/matches/31b10b4c/Alaves-Real-Betis-August-25-2018-La-Liga', 'https://fbref.com//en/matches/9dafff66/Atletico-Madrid-Rayo-Vallecano-August-25-2018-La-Liga', 'https://fbref.com//en/matches/262193b3/Valladolid-Barcelona-August-25-2018-La-Liga', 'https://fbref.com//en/matches/9c6a2f94/Espanyol-Valencia-August-26-2018-La-Liga', 'https://fbref.com//en/matches/5aa7f90b/Girona-Real-Madrid-August-26-2018-La-Liga', 'https://fbref.com//en/matches/ec7274c0/Sevilla-Villarreal-August-26-2018-La-Liga', 'https://fbref.com//en/matches/37c34100/Levante-Celta-Vigo-August-27-2018-La-Liga', 'https://fbref.com//en/matches/0d234b90/Athletic-Club-Huesca-August-27-2018-La-Liga', 'https://fbref.com//en/matches/3505425b/Getafe-Valladolid-August-31-2018-La-Liga', 'https://fbref.com//en/matches/d376ad57/Villarreal-Girona-August-31-2018-La-Liga', 'https://fbref.com//en/matches/e9a96548/Eibar-Real-Sociedad-August-31-2018-La-Liga', 'https://fbref.com//en/matches/612c7914/Celta-Vigo-Atletico-Madrid-September-1-2018-La-Liga', 'https://fbref.com//en/matches/273a53fc/Real-Madrid-Leganes-September-1-2018-La-Liga', 'https://fbref.com//en/matches/8b8f19c0/Levante-Valencia-September-2-2018-La-Liga', 'https://fbref.com//en/matches/efc2a670/Alaves-Espanyol-September-2-2018-La-Liga', 'https://fbref.com//en/matches/0b6d40c5/Barcelona-Huesca-September-2-2018-La-Liga', 'https://fbref.com//en/matches/386b9a82/Real-Betis-Sevilla-September-2-2018-La-Liga', 'https://fbref.com//en/matches/3b452df0/Huesca-Rayo-Vallecano-September-14-2018-La-Liga', 'https://fbref.com//en/matches/4bd8f1d5/Atletico-Madrid-Eibar-September-15-2018-La-Liga', 'https://fbref.com//en/matches/afa6f343/Real-Sociedad-Barcelona-September-15-2018-La-Liga', 'https://fbref.com//en/matches/91a61918/Valencia-Real-Betis-September-15-2018-La-Liga', 'https://fbref.com//en/matches/bb5953f9/Athletic-Club-Real-Madrid-September-15-2018-La-Liga', 'https://fbref.com//en/matches/6c8c4d1a/Leganes-Villarreal-September-16-2018-La-Liga', 'https://fbref.com//en/matches/1fe6901f/Espanyol-Levante-September-16-2018-La-Liga', 'https://fbref.com//en/matches/6e8f0e3e/Valladolid-Alaves-September-16-2018-La-Liga', 'https://fbref.com//en/matches/a12e422c/Sevilla-Getafe-September-16-2018-La-Liga', 'https://fbref.com//en/matches/bcf15aba/Girona-Celta-Vigo-September-17-2018-La-Liga', 'https://fbref.com//en/matches/271adbd0/Huesca-Real-Sociedad-September-21-2018-La-Liga', 'https://fbref.com//en/matches/aa996107/Rayo-Vallecano-Alaves-September-22-2018-La-Liga', 'https://fbref.com//en/matches/4c66f244/Eibar-Leganes-September-22-2018-La-Liga', 'https://fbref.com//en/matches/68974e33/Celta-Vigo-Valladolid-September-22-2018-La-Liga', 'https://fbref.com//en/matches/33165f42/Getafe-Atletico-Madrid-September-22-2018-La-Liga', 'https://fbref.com//en/matches/b5e24bc9/Real-Madrid-Espanyol-September-22-2018-La-Liga', 'https://fbref.com//en/matches/6e11f898/Levante-Sevilla-September-23-2018-La-Liga', 'https://fbref.com//en/matches/6999b1a0/Villarreal-Valencia-September-23-2018-La-Liga', 'https://fbref.com//en/matches/6830d52f/Real-Betis-Athletic-Club-September-23-2018-La-Liga', 'https://fbref.com//en/matches/96e8cb92/Barcelona-Girona-September-23-2018-La-Liga', 'https://fbref.com//en/matches/c188683e/Espanyol-Eibar-September-25-2018-La-Liga', 'https://fbref.com//en/matches/61b8b4da/Real-Sociedad-Rayo-Vallecano-September-25-2018-La-Liga', 'https://fbref.com//en/matches/206bfcf0/Atletico-Madrid-Huesca-September-25-2018-La-Liga', 'https://fbref.com//en/matches/2ffc9376/Leganes-Barcelona-September-26-2018-La-Liga', 'https://fbref.com//en/matches/48a26407/Athletic-Club-Villarreal-September-26-2018-La-Liga', 'https://fbref.com//en/matches/16bb809b/Sevilla-Real-Madrid-September-26-2018-La-Liga', 'https://fbref.com//en/matches/e90af81c/Valencia-Celta-Vigo-September-26-2018-La-Liga', 'https://fbref.com//en/matches/5be74cda/Alaves-Getafe-September-27-2018-La-Liga', 'https://fbref.com//en/matches/b83a53c3/Valladolid-Levante-September-27-2018-La-Liga', 'https://fbref.com//en/matches/a9c4da3e/Girona-Real-Betis-September-27-2018-La-Liga', 'https://fbref.com//en/matches/592e74ab/Rayo-Vallecano-Espanyol-September-28-2018-La-Liga', 'https://fbref.com//en/matches/34c786e8/Real-Sociedad-Valencia-September-29-2018-La-Liga', 'https://fbref.com//en/matches/104beba1/Barcelona-Athletic-Club-September-29-2018-La-Liga', 'https://fbref.com//en/matches/d97aedf7/Eibar-Sevilla-September-29-2018-La-Liga', 'https://fbref.com//en/matches/d2d44529/El-Derbi-Madrileno-Real-Madrid-Atletico-Madrid-September-29-2018-La-Liga', 'https://fbref.com//en/matches/8bfabe21/Huesca-Girona-September-30-2018-La-Liga', 'https://fbref.com//en/matches/d88a3f0a/Villarreal-Valladolid-September-30-2018-La-Liga', 'https://fbref.com//en/matches/bbddb46a/Levante-Alaves-September-30-2018-La-Liga', 'https://fbref.com//en/matches/637330f8/Real-Betis-Leganes-September-30-2018-La-Liga', 'https://fbref.com//en/matches/64042946/Celta-Vigo-Getafe-October-1-2018-La-Liga', 'https://fbref.com//en/matches/83e25acf/Athletic-Club-Real-Sociedad-October-5-2018-La-Liga', 'https://fbref.com//en/matches/4f8ebd8c/Girona-Eibar-October-6-2018-La-Liga', 'https://fbref.com//en/matches/e344cb66/Getafe-Levante-October-6-2018-La-Liga', 'https://fbref.com//en/matches/6bd9667d/Alaves-Real-Madrid-October-6-2018-La-Liga', 'https://fbref.com//en/matches/5bd83f8d/Leganes-Rayo-Vallecano-October-6-2018-La-Liga', 'https://fbref.com//en/matches/b0dd4747/Valladolid-Huesca-October-7-2018-La-Liga', 'https://fbref.com//en/matches/e059292a/Atletico-Madrid-Real-Betis-October-7-2018-La-Liga', 'https://fbref.com//en/matches/848d3555/Sevilla-Celta-Vigo-October-7-2018-La-Liga', 'https://fbref.com//en/matches/c60879d1/Espanyol-Villarreal-October-7-2018-La-Liga', 'https://fbref.com//en/matches/5df44b11/Valencia-Barcelona-October-7-2018-La-Liga', 'https://fbref.com//en/matches/02dfa469/Celta-Vigo-Alaves-October-19-2018-La-Liga', 'https://fbref.com//en/matches/c38c822b/Real-Madrid-Levante-October-20-2018-La-Liga', 'https://fbref.com//en/matches/25bbcd4f/Valencia-Leganes-October-20-2018-La-Liga', 'https://fbref.com//en/matches/62f320a8/Villarreal-Atletico-Madrid-October-20-2018-La-Liga', 'https://fbref.com//en/matches/ce338edb/Barcelona-Sevilla-October-20-2018-La-Liga', 'https://fbref.com//en/matches/03f64a42/Rayo-Vallecano-Getafe-October-21-2018-La-Liga', 'https://fbref.com//en/matches/cfd01b35/Eibar-Athletic-Club-October-21-2018-La-Liga', 'https://fbref.com//en/matches/b447bc32/Huesca-Espanyol-October-21-2018-La-Liga', 'https://fbref.com//en/matches/01dad537/Real-Betis-Valladolid-October-21-2018-La-Liga', 'https://fbref.com//en/matches/17abcc36/Real-Sociedad-Girona-October-22-2018-La-Liga', 'https://fbref.com//en/matches/2ab8da78/Rayo-Vallecano-Athletic-Club-October-24-2018-La-Liga', 'https://fbref.com//en/matches/208c1a6e/Valladolid-Espanyol-October-26-2018-La-Liga', 'https://fbref.com//en/matches/7fb0f3bf/Girona-Rayo-Vallecano-October-27-2018-La-Liga', 'https://fbref.com//en/matches/97758716/Athletic-Club-Valencia-October-27-2018-La-Liga', 'https://fbref.com//en/matches/43c50e7d/Levante-Leganes-October-27-2018-La-Liga', 'https://fbref.com//en/matches/51f0b015/Celta-Vigo-Eibar-October-27-2018-La-Liga', 'https://fbref.com//en/matches/84a25f29/Atletico-Madrid-Real-Sociedad-October-27-2018-La-Liga', 'https://fbref.com//en/matches/a7fc6107/Getafe-Real-Betis-October-28-2018-La-Liga', 'https://fbref.com//en/matches/66e58adb/El-Clasico-Barcelona-Real-Madrid-October-28-2018-La-Liga', 'https://fbref.com//en/matches/98f7f3a3/Alaves-Villarreal-October-28-2018-La-Liga', 'https://fbref.com//en/matches/0134c8df/Sevilla-Huesca-October-28-2018-La-Liga', 'https://fbref.com//en/matches/95a089d7/Leganes-Atletico-Madrid-November-3-2018-La-Liga', 'https://fbref.com//en/matches/17463db7/Real-Madrid-Valladolid-November-3-2018-La-Liga', 'https://fbref.com//en/matches/824cee12/Valencia-Girona-November-3-2018-La-Liga', 'https://fbref.com//en/matches/f7762281/Rayo-Vallecano-Barcelona-November-3-2018-La-Liga', 'https://fbref.com//en/matches/eab8ffda/Eibar-Alaves-November-4-2018-La-Liga', 'https://fbref.com//en/matches/de4917a5/Villarreal-Levante-November-4-2018-La-Liga', 'https://fbref.com//en/matches/128dec24/Huesca-Getafe-November-4-2018-La-Liga', 'https://fbref.com//en/matches/e20e255c/Real-Sociedad-Sevilla-November-4-2018-La-Liga', 'https://fbref.com//en/matches/71c82ac5/Real-Betis-Celta-Vigo-November-4-2018-La-Liga', 'https://fbref.com//en/matches/fa35bf22/Espanyol-Athletic-Club-November-5-2018-La-Liga', 'https://fbref.com//en/matches/f7adf4ad/Levante-Real-Sociedad-November-9-2018-La-Liga', 'https://fbref.com//en/matches/9b5a683b/Valladolid-Eibar-November-10-2018-La-Liga', 'https://fbref.com//en/matches/887fc4e0/Getafe-Valencia-November-10-2018-La-Liga', 'https://fbref.com//en/matches/a5f0fdc0/Atletico-Madrid-Athletic-Club-November-10-2018-La-Liga', 'https://fbref.com//en/matches/afecb62d/Girona-Leganes-November-10-2018-La-Liga', 'https://fbref.com//en/matches/357d327c/Alaves-Huesca-November-11-2018-La-Liga', 'https://fbref.com//en/matches/8113b235/Barcelona-Real-Betis-November-11-2018-La-Liga', 'https://fbref.com//en/matches/1befc598/Sevilla-Espanyol-November-11-2018-La-Liga', 'https://fbref.com//en/matches/3666ee1a/Rayo-Vallecano-Villarreal-November-11-2018-La-Liga', 'https://fbref.com//en/matches/349e2112/Celta-Vigo-Real-Madrid-November-11-2018-La-Liga', 'https://fbref.com//en/matches/f96bece2/Leganes-Alaves-November-23-2018-La-Liga', 'https://fbref.com//en/matches/61527cdb/Eibar-Real-Madrid-November-24-2018-La-Liga', 'https://fbref.com//en/matches/f8029619/Valencia-Rayo-Vallecano-November-24-2018-La-Liga', 'https://fbref.com//en/matches/5398d74a/Huesca-Levante-November-24-2018-La-Liga', 'https://fbref.com//en/matches/21323dd4/Atletico-Madrid-Barcelona-November-24-2018-La-Liga', 'https://fbref.com//en/matches/4a60252f/Athletic-Club-Getafe-November-25-2018-La-Liga', 'https://fbref.com//en/matches/7fd9cdd4/Sevilla-Valladolid-November-25-2018-La-Liga', 'https://fbref.com//en/matches/fbd38a66/Espanyol-Girona-November-25-2018-La-Liga', 'https://fbref.com//en/matches/c3a61aa7/Villarreal-Real-Betis-November-25-2018-La-Liga', 'https://fbref.com//en/matches/1c359926/Real-Sociedad-Celta-Vigo-November-26-2018-La-Liga', 'https://fbref.com//en/matches/6f000f9e/Rayo-Vallecano-Eibar-November-30-2018-La-Liga', 'https://fbref.com//en/matches/e81f55f9/Celta-Vigo-Huesca-December-1-2018-La-Liga', 'https://fbref.com//en/matches/e599678a/Valladolid-Leganes-December-1-2018-La-Liga', 'https://fbref.com//en/matches/ffd96bff/Getafe-Espanyol-December-1-2018-La-Liga', 'https://fbref.com//en/matches/3e39abc5/Real-Madrid-Valencia-December-1-2018-La-Liga', 'https://fbref.com//en/matches/ea705008/Real-Betis-Real-Sociedad-December-2-2018-La-Liga', 'https://fbref.com//en/matches/badb1786/Girona-Atletico-Madrid-December-2-2018-La-Liga', 'https://fbref.com//en/matches/abb582f2/Barcelona-Villarreal-December-2-2018-La-Liga', 'https://fbref.com//en/matches/74f50a0b/Alaves-Sevilla-December-2-2018-La-Liga', 'https://fbref.com//en/matches/00b0aa7a/Levante-Athletic-Club-December-3-2018-La-Liga', 'https://fbref.com//en/matches/bf43a155/Leganes-Getafe-December-7-2018-La-Liga', 'https://fbref.com//en/matches/e4608b2e/Atletico-Madrid-Alaves-December-8-2018-La-Liga', 'https://fbref.com//en/matches/fa1f3b55/Valencia-Sevilla-December-8-2018-La-Liga', 'https://fbref.com//en/matches/97509c14/Villarreal-Celta-Vigo-December-8-2018-La-Liga', 'https://fbref.com//en/matches/6e08f11b/Espanyol-Barcelona-December-8-2018-La-Liga', 'https://fbref.com//en/matches/f0ef3886/Eibar-Levante-December-9-2018-La-Liga', 'https://fbref.com//en/matches/95a61fe9/Huesca-Real-Madrid-December-9-2018-La-Liga', 'https://fbref.com//en/matches/1296b721/Real-Sociedad-Valladolid-December-9-2018-La-Liga', 'https://fbref.com//en/matches/c70a311d/Real-Betis-Rayo-Vallecano-December-9-2018-La-Liga', 'https://fbref.com//en/matches/6f0dadcb/Athletic-Club-Girona-December-10-2018-La-Liga', 'https://fbref.com//en/matches/bcb5b303/Celta-Vigo-Leganes-December-14-2018-La-Liga', 'https://fbref.com//en/matches/7d5b8871/Getafe-Real-Sociedad-December-15-2018-La-Liga', 'https://fbref.com//en/matches/a49e191e/Valladolid-Atletico-Madrid-December-15-2018-La-Liga', 'https://fbref.com//en/matches/cdec1369/Real-Madrid-Rayo-Vallecano-December-15-2018-La-Liga', 'https://fbref.com//en/matches/d5d736ef/Eibar-Valencia-December-15-2018-La-Liga', 'https://fbref.com//en/matches/f2881dc1/Sevilla-Girona-December-16-2018-La-Liga', 'https://fbref.com//en/matches/a5bab21f/Espanyol-Real-Betis-December-16-2018-La-Liga', 'https://fbref.com//en/matches/ee37e406/Huesca-Villarreal-December-16-2018-La-Liga', 'https://fbref.com//en/matches/190484d3/Levante-Barcelona-December-16-2018-La-Liga', 'https://fbref.com//en/matches/e8de71b9/Alaves-Athletic-Club-December-17-2018-La-Liga', 'https://fbref.com//en/matches/73cd69c5/Girona-Getafe-December-21-2018-La-Liga', 'https://fbref.com//en/matches/b771e973/Real-Sociedad-Alaves-December-21-2018-La-Liga', 'https://fbref.com//en/matches/84f49ee2/Real-Betis-Eibar-December-22-2018-La-Liga', 'https://fbref.com//en/matches/3da02e15/Atletico-Madrid-Espanyol-December-22-2018-La-Liga', 'https://fbref.com//en/matches/7a2c8e2d/Barcelona-Celta-Vigo-December-22-2018-La-Liga', 'https://fbref.com//en/matches/ac666abe/Athletic-Club-Valladolid-December-22-2018-La-Liga', 'https://fbref.com//en/matches/a2401dab/Valencia-Huesca-December-23-2018-La-Liga', 'https://fbref.com//en/matches/64a0f14b/Leganes-Sevilla-December-23-2018-La-Liga', 'https://fbref.com//en/matches/1d33d149/Rayo-Vallecano-Levante-December-23-2018-La-Liga', 'https://fbref.com//en/matches/d25c0be5/Villarreal-Real-Madrid-January-3-2019-La-Liga', 'https://fbref.com//en/matches/64cafd34/Levante-Girona-January-4-2019-La-Liga', 'https://fbref.com//en/matches/a34afc99/Espanyol-Leganes-January-4-2019-La-Liga', 'https://fbref.com//en/matches/a9b04f70/Valladolid-Rayo-Vallecano-January-5-2019-La-Liga', 'https://fbref.com//en/matches/bec6fd61/Alaves-Valencia-January-5-2019-La-Liga', 'https://fbref.com//en/matches/55653337/Huesca-Real-Betis-January-5-2019-La-Liga', 'https://fbref.com//en/matches/8b9a2374/Eibar-Villarreal-January-6-2019-La-Liga', 'https://fbref.com//en/matches/0da03d10/Sevilla-Atletico-Madrid-January-6-2019-La-Liga', 'https://fbref.com//en/matches/93caa39b/Real-Madrid-Real-Sociedad-January-6-2019-La-Liga', 'https://fbref.com//en/matches/91572149/Getafe-Barcelona-January-6-2019-La-Liga', 'https://fbref.com//en/matches/94d131d1/Celta-Vigo-Athletic-Club-January-7-2019-La-Liga', 'https://fbref.com//en/matches/d1c154c2/Rayo-Vallecano-Celta-Vigo-January-11-2019-La-Liga', 'https://fbref.com//en/matches/c5dcc490/Leganes-Huesca-January-12-2019-La-Liga', 'https://fbref.com//en/matches/2ad46e96/Valencia-Valladolid-January-12-2019-La-Liga', 'https://fbref.com//en/matches/3e59a7f2/Girona-Alaves-January-12-2019-La-Liga', 'https://fbref.com//en/matches/ee009263/Villarreal-Getafe-January-12-2019-La-Liga', 'https://fbref.com//en/matches/f3ba02c6/Atletico-Madrid-Levante-January-13-2019-La-Liga', 'https://fbref.com//en/matches/93ceafbb/Athletic-Club-Sevilla-January-13-2019-La-Liga', 'https://fbref.com//en/matches/bc534a87/Barcelona-Eibar-January-13-2019-La-Liga', 'https://fbref.com//en/matches/988a09ba/Real-Betis-Real-Madrid-January-13-2019-La-Liga', 'https://fbref.com//en/matches/639d470c/Real-Sociedad-Espanyol-January-14-2019-La-Liga', 'https://fbref.com//en/matches/d0978087/Getafe-Alaves-January-18-2019-La-Liga', 'https://fbref.com//en/matches/92b4d472/Real-Madrid-Sevilla-January-19-2019-La-Liga', 'https://fbref.com//en/matches/a4c84ae7/Huesca-Atletico-Madrid-January-19-2019-La-Liga', 'https://fbref.com//en/matches/e7ddc8d4/Celta-Vigo-Valencia-January-19-2019-La-Liga', 'https://fbref.com//en/matches/0d6793ff/Real-Betis-Girona-January-20-2019-La-Liga', 'https://fbref.com//en/matches/742f222a/Villarreal-Athletic-Club-January-20-2019-La-Liga', 'https://fbref.com//en/matches/7f018acf/Levante-Valladolid-January-20-2019-La-Liga', 'https://fbref.com//en/matches/def995cc/Rayo-Vallecano-Real-Sociedad-January-20-2019-La-Liga', 'https://fbref.com//en/matches/582c7af9/Barcelona-Leganes-January-20-2019-La-Liga', 'https://fbref.com//en/matches/13375843/Eibar-Espanyol-January-21-2019-La-Liga', 'https://fbref.com//en/matches/e7adc105/Sevilla-Levante-January-26-2019-La-Liga', 'https://fbref.com//en/matches/2fcc0d89/Atletico-Madrid-Getafe-January-26-2019-La-Liga', 'https://fbref.com//en/matches/342a46e9/Leganes-Eibar-January-26-2019-La-Liga', 'https://fbref.com//en/matches/e982d83f/Valencia-Villarreal-January-26-2019-La-Liga', 'https://fbref.com//en/matches/e477d28c/Valladolid-Celta-Vigo-January-27-2019-La-Liga', 'https://fbref.com//en/matches/fe1f2ee5/Girona-Barcelona-January-27-2019-La-Liga', 'https://fbref.com//en/matches/34f7793f/Real-Sociedad-Huesca-January-27-2019-La-Liga', 'https://fbref.com//en/matches/7b2b21cb/Athletic-Club-Real-Betis-January-27-2019-La-Liga', 'https://fbref.com//en/matches/9eaada3d/Espanyol-Real-Madrid-January-27-2019-La-Liga', 'https://fbref.com//en/matches/d76ebcee/Alaves-Rayo-Vallecano-January-28-2019-La-Liga', 'https://fbref.com//en/matches/7e2758cc/Huesca-Valladolid-February-1-2019-La-Liga', 'https://fbref.com//en/matches/9be74470/Levante-Getafe-February-2-2019-La-Liga', 'https://fbref.com//en/matches/b444df9a/Real-Sociedad-Athletic-Club-February-2-2019-La-Liga', 'https://fbref.com//en/matches/2cb199b0/Barcelona-Valencia-February-2-2019-La-Liga', 'https://fbref.com//en/matches/68311c30/Celta-Vigo-Sevilla-February-2-2019-La-Liga', 'https://fbref.com//en/matches/9172e3c8/Villarreal-Espanyol-February-3-2019-La-Liga', 'https://fbref.com//en/matches/c520e02b/Real-Betis-Atletico-Madrid-February-3-2019-La-Liga', 'https://fbref.com//en/matches/a6c5c209/Eibar-Girona-February-3-2019-La-Liga', 'https://fbref.com//en/matches/9f9ae3eb/Real-Madrid-Alaves-February-3-2019-La-Liga', 'https://fbref.com//en/matches/2e532e72/Rayo-Vallecano-Leganes-February-4-2019-La-Liga', 'https://fbref.com//en/matches/db1d2af6/Valladolid-Villarreal-February-8-2019-La-Liga', 'https://fbref.com//en/matches/7f63a675/Getafe-Celta-Vigo-February-9-2019-La-Liga', 'https://fbref.com//en/matches/be01c5f1/El-Derbi-Madrileno-Atletico-Madrid-Real-Madrid-February-9-2019-La-Liga', 'https://fbref.com//en/matches/401ae99b/Espanyol-Rayo-Vallecano-February-9-2019-La-Liga', 'https://fbref.com//en/matches/2e5ac1bc/Girona-Huesca-February-9-2019-La-Liga', 'https://fbref.com//en/matches/006a5676/Leganes-Real-Betis-February-10-2019-La-Liga', 'https://fbref.com//en/matches/f12fc51d/Valencia-Real-Sociedad-February-10-2019-La-Liga', 'https://fbref.com//en/matches/c2ce250c/Sevilla-Eibar-February-10-2019-La-Liga', 'https://fbref.com//en/matches/7a72c2d3/Athletic-Club-Barcelona-February-10-2019-La-Liga', 'https://fbref.com//en/matches/b109995c/Alaves-Levante-February-11-2019-La-Liga', 'https://fbref.com//en/matches/647a65c5/Eibar-Getafe-February-15-2019-La-Liga', 'https://fbref.com//en/matches/6d3dedb0/Celta-Vigo-Levante-February-16-2019-La-Liga', 'https://fbref.com//en/matches/00ea5103/Rayo-Vallecano-Atletico-Madrid-February-16-2019-La-Liga', 'https://fbref.com//en/matches/cd72ec43/Real-Sociedad-Leganes-February-16-2019-La-Liga', 'https://fbref.com//en/matches/df8fbe37/Barcelona-Valladolid-February-16-2019-La-Liga', 'https://fbref.com//en/matches/f3bbe281/Real-Madrid-Girona-February-17-2019-La-Liga', 'https://fbref.com//en/matches/c4c53328/Valencia-Espanyol-February-17-2019-La-Liga', 'https://fbref.com//en/matches/a7efee87/Villarreal-Sevilla-February-17-2019-La-Liga', 'https://fbref.com//en/matches/be83c256/Real-Betis-Alaves-February-17-2019-La-Liga', 'https://fbref.com//en/matches/42f8a227/Huesca-Athletic-Club-February-18-2019-La-Liga', 'https://fbref.com//en/matches/1a6f9817/Espanyol-Huesca-February-22-2019-La-Liga', 'https://fbref.com//en/matches/878fac0e/Getafe-Rayo-Vallecano-February-23-2019-La-Liga', 'https://fbref.com//en/matches/9c343f00/Sevilla-Barcelona-February-23-2019-La-Liga', 'https://fbref.com//en/matches/086e4802/Alaves-Celta-Vigo-February-23-2019-La-Liga', 'https://fbref.com//en/matches/9fb4ebab/Athletic-Club-Eibar-February-23-2019-La-Liga', 'https://fbref.com//en/matches/7010f440/Leganes-Valencia-February-24-2019-La-Liga', 'https://fbref.com//en/matches/bcb47d9e/Atletico-Madrid-Villarreal-February-24-2019-La-Liga', 'https://fbref.com//en/matches/8583292b/Valladolid-Real-Betis-February-24-2019-La-Liga', 'https://fbref.com//en/matches/7c2ee19f/Levante-Real-Madrid-February-24-2019-La-Liga', 'https://fbref.com//en/matches/18069df5/Girona-Real-Sociedad-February-25-2019-La-Liga', 'https://fbref.com//en/matches/bb80c95b/Rayo-Vallecano-Girona-March-1-2019-La-Liga', 'https://fbref.com//en/matches/64c7bcd2/Espanyol-Valladolid-March-2-2019-La-Liga', 'https://fbref.com//en/matches/afff20a9/Villarreal-Alaves-March-2-2019-La-Liga', 'https://fbref.com//en/matches/19a738c0/Huesca-Sevilla-March-2-2019-La-Liga', 'https://fbref.com//en/matches/38da3cd1/El-Clasico-Real-Madrid-Barcelona-March-2-2019-La-Liga', 'https://fbref.com//en/matches/93dbea52/Eibar-Celta-Vigo-March-3-2019-La-Liga', 'https://fbref.com//en/matches/067b9a41/Real-Betis-Getafe-March-3-2019-La-Liga', 'https://fbref.com//en/matches/e5ce9773/Real-Sociedad-Atletico-Madrid-March-3-2019-La-Liga', 'https://fbref.com//en/matches/099910a6/Valencia-Athletic-Club-March-3-2019-La-Liga', 'https://fbref.com//en/matches/dffe560f/Leganes-Levante-March-4-2019-La-Liga', 'https://fbref.com//en/matches/30cedc60/Athletic-Club-Espanyol-March-8-2019-La-Liga', 'https://fbref.com//en/matches/a2c14ed5/Alaves-Eibar-March-9-2019-La-Liga', 'https://fbref.com//en/matches/2b0f4f49/Atletico-Madrid-Leganes-March-9-2019-La-Liga', 'https://fbref.com//en/matches/7e724c75/Barcelona-Rayo-Vallecano-March-9-2019-La-Liga', 'https://fbref.com//en/matches/3a9a6cbf/Getafe-Huesca-March-9-2019-La-Liga', 'https://fbref.com//en/matches/62cce1df/Celta-Vigo-Real-Betis-March-10-2019-La-Liga', 'https://fbref.com//en/matches/45ccf482/Girona-Valencia-March-10-2019-La-Liga', 'https://fbref.com//en/matches/680ec217/Levante-Villarreal-March-10-2019-La-Liga', 'https://fbref.com//en/matches/c1ee8172/Sevilla-Real-Sociedad-March-10-2019-La-Liga', 'https://fbref.com//en/matches/3bf9a086/Valladolid-Real-Madrid-March-10-2019-La-Liga', 'https://fbref.com//en/matches/62e84135/Real-Sociedad-Levante-March-15-2019-La-Liga', 'https://fbref.com//en/matches/4658166d/Huesca-Alaves-March-16-2019-La-Liga', 'https://fbref.com//en/matches/11a2c45f/Real-Madrid-Celta-Vigo-March-16-2019-La-Liga', 'https://fbref.com//en/matches/2756c86c/Athletic-Club-Atletico-Madrid-March-16-2019-La-Liga', 'https://fbref.com//en/matches/99d3f1d0/Leganes-Girona-March-16-2019-La-Liga', 'https://fbref.com//en/matches/aeec54b9/Eibar-Valladolid-March-17-2019-La-Liga', 'https://fbref.com//en/matches/e603a7c1/Espanyol-Sevilla-March-17-2019-La-Liga', 'https://fbref.com//en/matches/58783a71/Villarreal-Rayo-Vallecano-March-17-2019-La-Liga', 'https://fbref.com//en/matches/99c13b37/Valencia-Getafe-March-17-2019-La-Liga', 'https://fbref.com//en/matches/c59ccf5a/Real-Betis-Barcelona-March-17-2019-La-Liga', 'https://fbref.com//en/matches/f120d0a0/Girona-Athletic-Club-March-29-2019-La-Liga', 'https://fbref.com//en/matches/753e7ccc/Getafe-Leganes-March-30-2019-La-Liga', 'https://fbref.com//en/matches/d0f59a88/Barcelona-Espanyol-March-30-2019-La-Liga', 'https://fbref.com//en/matches/c66742da/Celta-Vigo-Villarreal-March-30-2019-La-Liga', 'https://fbref.com//en/matches/11ea85c8/Alaves-Atletico-Madrid-March-30-2019-La-Liga', 'https://fbref.com//en/matches/c608e997/Levante-Eibar-March-31-2019-La-Liga', 'https://fbref.com//en/matches/d72c916b/Rayo-Vallecano-Real-Betis-March-31-2019-La-Liga', 'https://fbref.com//en/matches/985ff3f0/Sevilla-Valencia-March-31-2019-La-Liga', 'https://fbref.com//en/matches/08cbe095/Valladolid-Real-Sociedad-March-31-2019-La-Liga', 'https://fbref.com//en/matches/5442ba12/Real-Madrid-Huesca-March-31-2019-La-Liga', 'https://fbref.com//en/matches/498b3c79/Atletico-Madrid-Girona-April-2-2019-La-Liga', 'https://fbref.com//en/matches/4d10a2b1/Espanyol-Getafe-April-2-2019-La-Liga', 'https://fbref.com//en/matches/e6d0225d/Villarreal-Barcelona-April-2-2019-La-Liga', 'https://fbref.com//en/matches/c59d55e4/Athletic-Club-Levante-April-3-2019-La-Liga', 'https://fbref.com//en/matches/d11deff0/Huesca-Celta-Vigo-April-3-2019-La-Liga', 'https://fbref.com//en/matches/f141cb50/Eibar-Rayo-Vallecano-April-3-2019-La-Liga', 'https://fbref.com//en/matches/724e53c6/Valencia-Real-Madrid-April-3-2019-La-Liga', 'https://fbref.com//en/matches/27ad8f59/Sevilla-Alaves-April-4-2019-La-Liga', 'https://fbref.com//en/matches/7c5bce63/Leganes-Valladolid-April-4-2019-La-Liga', 'https://fbref.com//en/matches/3ac9bce3/Real-Sociedad-Real-Betis-April-4-2019-La-Liga', 'https://fbref.com//en/matches/fd162bb3/Girona-Espanyol-April-6-2019-La-Liga', 'https://fbref.com//en/matches/97954910/Real-Madrid-Eibar-April-6-2019-La-Liga', 'https://fbref.com//en/matches/a5763a53/Rayo-Vallecano-Valencia-April-6-2019-La-Liga', 'https://fbref.com//en/matches/6fbc572e/Barcelona-Atletico-Madrid-April-6-2019-La-Liga', 'https://fbref.com//en/matches/da6b6783/Alaves-Leganes-April-7-2019-La-Liga', 'https://fbref.com//en/matches/5f7418cc/Getafe-Athletic-Club-April-7-2019-La-Liga', 'https://fbref.com//en/matches/2b185a14/Valladolid-Sevilla-April-7-2019-La-Liga', 'https://fbref.com//en/matches/163565ce/Levante-Huesca-April-7-2019-La-Liga', 'https://fbref.com//en/matches/edbaa665/Celta-Vigo-Real-Sociedad-April-7-2019-La-Liga', 'https://fbref.com//en/matches/4673b564/Real-Betis-Villarreal-April-7-2019-La-Liga', 'https://fbref.com//en/matches/08b12eb9/Espanyol-Alaves-April-13-2019-La-Liga', 'https://fbref.com//en/matches/5faeb9d2/Huesca-Barcelona-April-13-2019-La-Liga', 'https://fbref.com//en/matches/c84e6c42/Atletico-Madrid-Celta-Vigo-April-13-2019-La-Liga', 'https://fbref.com//en/matches/daf8e97a/Sevilla-Real-Betis-April-13-2019-La-Liga', 'https://fbref.com//en/matches/5f29daab/Valladolid-Getafe-April-14-2019-La-Liga', 'https://fbref.com//en/matches/61dc972e/Athletic-Club-Rayo-Vallecano-April-14-2019-La-Liga', 'https://fbref.com//en/matches/5468f316/Real-Sociedad-Eibar-April-14-2019-La-Liga', 'https://fbref.com//en/matches/797a65b4/Girona-Villarreal-April-14-2019-La-Liga', 'https://fbref.com//en/matches/043b7e7e/Valencia-Levante-April-14-2019-La-Liga', 'https://fbref.com//en/matches/238b30f5/Leganes-Real-Madrid-April-15-2019-La-Liga', 'https://fbref.com//en/matches/6ba4d624/Alaves-Valladolid-April-19-2019-La-Liga', 'https://fbref.com//en/matches/1d93fcc3/Celta-Vigo-Girona-April-20-2019-La-Liga', 'https://fbref.com//en/matches/131c9caa/Eibar-Atletico-Madrid-April-20-2019-La-Liga', 'https://fbref.com//en/matches/ef0c639a/Rayo-Vallecano-Huesca-April-20-2019-La-Liga', 'https://fbref.com//en/matches/dc6a34e3/Barcelona-Real-Sociedad-April-20-2019-La-Liga', 'https://fbref.com//en/matches/9e30ad58/Levante-Espanyol-April-21-2019-La-Liga', 'https://fbref.com//en/matches/a6e75315/Getafe-Sevilla-April-21-2019-La-Liga', 'https://fbref.com//en/matches/2010d7ac/Real-Madrid-Athletic-Club-April-21-2019-La-Liga', 'https://fbref.com//en/matches/d15184f7/Villarreal-Leganes-April-21-2019-La-Liga', 'https://fbref.com//en/matches/46a13aef/Real-Betis-Valencia-April-21-2019-La-Liga', 'https://fbref.com//en/matches/18025bde/Huesca-Eibar-April-23-2019-La-Liga', 'https://fbref.com//en/matches/2533eec4/Valladolid-Girona-April-23-2019-La-Liga', 'https://fbref.com//en/matches/17a1c1b8/Alaves-Barcelona-April-23-2019-La-Liga', 'https://fbref.com//en/matches/d74b4660/Atletico-Madrid-Valencia-April-24-2019-La-Liga', 'https://fbref.com//en/matches/b4ed8753/Espanyol-Celta-Vigo-April-24-2019-La-Liga', 'https://fbref.com//en/matches/b9f0d926/Leganes-Athletic-Club-April-24-2019-La-Liga', 'https://fbref.com//en/matches/0ea896a5/Levante-Real-Betis-April-24-2019-La-Liga', 'https://fbref.com//en/matches/65e176bd/Sevilla-Rayo-Vallecano-April-25-2019-La-Liga', 'https://fbref.com//en/matches/261c8d82/Real-Sociedad-Villarreal-April-25-2019-La-Liga', 'https://fbref.com//en/matches/c958583c/Getafe-Real-Madrid-April-25-2019-La-Liga', 'https://fbref.com//en/matches/9e262d2b/Athletic-Club-Alaves-April-27-2019-La-Liga', 'https://fbref.com//en/matches/298c44d2/Atletico-Madrid-Valladolid-April-27-2019-La-Liga', 'https://fbref.com//en/matches/df317dff/Leganes-Celta-Vigo-April-27-2019-La-Liga', 'https://fbref.com//en/matches/2e9825c3/Barcelona-Levante-April-27-2019-La-Liga', 'https://fbref.com//en/matches/9c6be033/Valencia-Eibar-April-28-2019-La-Liga', 'https://fbref.com//en/matches/de27ad08/Girona-Sevilla-April-28-2019-La-Liga', 'https://fbref.com//en/matches/658af911/Real-Sociedad-Getafe-April-28-2019-La-Liga', 'https://fbref.com//en/matches/2dddd8e7/Villarreal-Huesca-April-28-2019-La-Liga', 'https://fbref.com//en/matches/d64adc89/Rayo-Vallecano-Real-Madrid-April-28-2019-La-Liga', 'https://fbref.com//en/matches/a7bcd0ed/Real-Betis-Espanyol-April-29-2019-La-Liga', 'https://fbref.com//en/matches/257e9995/Sevilla-Leganes-May-3-2019-La-Liga', 'https://fbref.com//en/matches/05f0ac3a/Levante-Rayo-Vallecano-May-4-2019-La-Liga', 'https://fbref.com//en/matches/a31e57a2/Espanyol-Atletico-Madrid-May-4-2019-La-Liga', 'https://fbref.com//en/matches/5714954a/Alaves-Real-Sociedad-May-4-2019-La-Liga', 'https://fbref.com//en/matches/f10c62ca/Celta-Vigo-Barcelona-May-4-2019-La-Liga', 'https://fbref.com//en/matches/602c2301/Getafe-Girona-May-5-2019-La-Liga', 'https://fbref.com//en/matches/2c80fea8/Eibar-Real-Betis-May-5-2019-La-Liga', 'https://fbref.com//en/matches/1707a1bf/Real-Madrid-Villarreal-May-5-2019-La-Liga', 'https://fbref.com//en/matches/a643e0b6/Valladolid-Athletic-Club-May-5-2019-La-Liga', 'https://fbref.com//en/matches/2b0e0b99/Huesca-Valencia-May-5-2019-La-Liga', 'https://fbref.com//en/matches/12723821/Real-Betis-Huesca-May-12-2019-La-Liga', 'https://fbref.com//en/matches/13699801/Barcelona-Getafe-May-12-2019-La-Liga', 'https://fbref.com//en/matches/36611668/Girona-Levante-May-12-2019-La-Liga', 'https://fbref.com//en/matches/5c432f6b/Valencia-Alaves-May-12-2019-La-Liga', 'https://fbref.com//en/matches/5d2381d3/Villarreal-Eibar-May-12-2019-La-Liga', 'https://fbref.com//en/matches/7011948c/Leganes-Espanyol-May-12-2019-La-Liga', 'https://fbref.com//en/matches/8d1b33a2/Athletic-Club-Celta-Vigo-May-12-2019-La-Liga', 'https://fbref.com//en/matches/bb6aa4f6/Rayo-Vallecano-Valladolid-May-12-2019-La-Liga', 'https://fbref.com//en/matches/db18a228/Atletico-Madrid-Sevilla-May-12-2019-La-Liga', 'https://fbref.com//en/matches/fbbad07f/Real-Sociedad-Real-Madrid-May-12-2019-La-Liga', 'https://fbref.com//en/matches/176e87ad/Levante-Atletico-Madrid-May-18-2019-La-Liga', 'https://fbref.com//en/matches/0048f798/Getafe-Villarreal-May-18-2019-La-Liga', 'https://fbref.com//en/matches/68a7f9a7/Espanyol-Real-Sociedad-May-18-2019-La-Liga', 'https://fbref.com//en/matches/bc17882a/Sevilla-Athletic-Club-May-18-2019-La-Liga', 'https://fbref.com//en/matches/e45b0920/Valladolid-Valencia-May-18-2019-La-Liga', 'https://fbref.com//en/matches/b46448d6/Celta-Vigo-Rayo-Vallecano-May-18-2019-La-Liga', 'https://fbref.com//en/matches/d1192314/Huesca-Leganes-May-18-2019-La-Liga', 'https://fbref.com//en/matches/db6b7fe8/Alaves-Girona-May-18-2019-La-Liga', 'https://fbref.com//en/matches/df874c57/Real-Madrid-Real-Betis-May-19-2019-La-Liga', 'https://fbref.com//en/matches/a7b68aed/Eibar-Barcelona-May-19-2019-La-Liga']\n"
          ]
        }
      ]
    },
    {
      "cell_type": "code",
      "source": [
        "data = fbref.get_all_dfs(\"https://fbref.com//en/matches/056f7848/Eibar-Celta-Vigo-September-12-2020-La-Liga\")"
      ],
      "metadata": {
        "id": "m17e9TIPtEG1"
      },
      "execution_count": null,
      "outputs": []
    },
    {
      "cell_type": "code",
      "source": [
        "season_data = []\n",
        "for idx, match_link in enumerate(links):\n",
        "  print(f\"Procesando partido {idx}\")\n",
        "  data = fbref.get_all_dfs(match_link)\n",
        "\n",
        "  datos_partido = data[2]\n",
        "  df = pd.DataFrame(datos_partido)\n",
        "\n",
        "  home_team = df.columns[0][0]\n",
        "  away_team = df.columns[1][0]\n",
        "\n",
        "  home_data = df.iloc[0::2, 0][:4]\n",
        "  home_data = [home_team, home_data[0], home_data[2], home_data[4], home_data[6]]\n",
        "  away_data = df.iloc[0::2, 1][:4]\n",
        "  away_data = [away_team, away_data[0], away_data[2], away_data[4], away_data[6]]\n",
        "\n",
        "  season_data.append([home_data, away_data])"
      ],
      "metadata": {
        "id": "rOD4mzfnO--R",
        "colab": {
          "base_uri": "https://localhost:8080/",
          "height": 418
        },
        "outputId": "5fbf26c7-8241-4547-a953-e1ad32b874bf"
      },
      "execution_count": null,
      "outputs": [
        {
          "output_type": "stream",
          "name": "stdout",
          "text": [
            "Procesando partido 0\n",
            "Procesando partido 1\n",
            "Procesando partido 2\n"
          ]
        },
        {
          "output_type": "error",
          "ename": "HTTPError",
          "evalue": "HTTP Error 404: Not Found",
          "traceback": [
            "\u001b[0;31m---------------------------------------------------------------------------\u001b[0m",
            "\u001b[0;31mHTTPError\u001b[0m                                 Traceback (most recent call last)",
            "\u001b[0;32m<ipython-input-13-73ed3a6fc984>\u001b[0m in \u001b[0;36m<cell line: 0>\u001b[0;34m()\u001b[0m\n\u001b[1;32m      2\u001b[0m \u001b[0;32mfor\u001b[0m \u001b[0midx\u001b[0m\u001b[0;34m,\u001b[0m \u001b[0mmatch_link\u001b[0m \u001b[0;32min\u001b[0m \u001b[0menumerate\u001b[0m\u001b[0;34m(\u001b[0m\u001b[0mlinks\u001b[0m\u001b[0;34m)\u001b[0m\u001b[0;34m:\u001b[0m\u001b[0;34m\u001b[0m\u001b[0;34m\u001b[0m\u001b[0m\n\u001b[1;32m      3\u001b[0m   \u001b[0mprint\u001b[0m\u001b[0;34m(\u001b[0m\u001b[0;34mf\"Procesando partido {idx}\"\u001b[0m\u001b[0;34m)\u001b[0m\u001b[0;34m\u001b[0m\u001b[0;34m\u001b[0m\u001b[0m\n\u001b[0;32m----> 4\u001b[0;31m   \u001b[0mdata\u001b[0m \u001b[0;34m=\u001b[0m \u001b[0mfbref\u001b[0m\u001b[0;34m.\u001b[0m\u001b[0mget_all_dfs\u001b[0m\u001b[0;34m(\u001b[0m\u001b[0mmatch_link\u001b[0m\u001b[0;34m)\u001b[0m\u001b[0;34m\u001b[0m\u001b[0;34m\u001b[0m\u001b[0m\n\u001b[0m\u001b[1;32m      5\u001b[0m \u001b[0;34m\u001b[0m\u001b[0m\n\u001b[1;32m      6\u001b[0m   \u001b[0mdatos_partido\u001b[0m \u001b[0;34m=\u001b[0m \u001b[0mdata\u001b[0m\u001b[0;34m[\u001b[0m\u001b[0;36m2\u001b[0m\u001b[0;34m]\u001b[0m\u001b[0;34m\u001b[0m\u001b[0;34m\u001b[0m\u001b[0m\n",
            "\u001b[0;32m/usr/local/lib/python3.11/dist-packages/LanusStats/fbref.py\u001b[0m in \u001b[0;36mget_all_dfs\u001b[0;34m(self, path)\u001b[0m\n\u001b[1;32m    336\u001b[0m \u001b[0;34m\u001b[0m\u001b[0m\n\u001b[1;32m    337\u001b[0m     \u001b[0;32mdef\u001b[0m \u001b[0mget_all_dfs\u001b[0m\u001b[0;34m(\u001b[0m\u001b[0mself\u001b[0m\u001b[0;34m,\u001b[0m \u001b[0mpath\u001b[0m\u001b[0;34m)\u001b[0m\u001b[0;34m:\u001b[0m\u001b[0;34m\u001b[0m\u001b[0;34m\u001b[0m\u001b[0m\n\u001b[0;32m--> 338\u001b[0;31m         \u001b[0mdata\u001b[0m \u001b[0;34m=\u001b[0m \u001b[0mpd\u001b[0m\u001b[0;34m.\u001b[0m\u001b[0mread_html\u001b[0m\u001b[0;34m(\u001b[0m\u001b[0mpath\u001b[0m\u001b[0;34m)\u001b[0m\u001b[0;34m\u001b[0m\u001b[0;34m\u001b[0m\u001b[0m\n\u001b[0m\u001b[1;32m    339\u001b[0m         \u001b[0mtime\u001b[0m\u001b[0;34m.\u001b[0m\u001b[0msleep\u001b[0m\u001b[0;34m(\u001b[0m\u001b[0;36m3\u001b[0m\u001b[0;34m)\u001b[0m\u001b[0;34m\u001b[0m\u001b[0;34m\u001b[0m\u001b[0m\n\u001b[1;32m    340\u001b[0m         \u001b[0;32mreturn\u001b[0m \u001b[0mdata\u001b[0m\u001b[0;34m\u001b[0m\u001b[0;34m\u001b[0m\u001b[0m\n",
            "\u001b[0;32m/usr/local/lib/python3.11/dist-packages/pandas/io/html.py\u001b[0m in \u001b[0;36mread_html\u001b[0;34m(io, match, flavor, header, index_col, skiprows, attrs, parse_dates, thousands, encoding, decimal, converters, na_values, keep_default_na, displayed_only, extract_links, dtype_backend, storage_options)\u001b[0m\n\u001b[1;32m   1238\u001b[0m         )\n\u001b[1;32m   1239\u001b[0m \u001b[0;34m\u001b[0m\u001b[0m\n\u001b[0;32m-> 1240\u001b[0;31m     return _parse(\n\u001b[0m\u001b[1;32m   1241\u001b[0m         \u001b[0mflavor\u001b[0m\u001b[0;34m=\u001b[0m\u001b[0mflavor\u001b[0m\u001b[0;34m,\u001b[0m\u001b[0;34m\u001b[0m\u001b[0;34m\u001b[0m\u001b[0m\n\u001b[1;32m   1242\u001b[0m         \u001b[0mio\u001b[0m\u001b[0;34m=\u001b[0m\u001b[0mio\u001b[0m\u001b[0;34m,\u001b[0m\u001b[0;34m\u001b[0m\u001b[0;34m\u001b[0m\u001b[0m\n",
            "\u001b[0;32m/usr/local/lib/python3.11/dist-packages/pandas/io/html.py\u001b[0m in \u001b[0;36m_parse\u001b[0;34m(flavor, io, match, attrs, encoding, displayed_only, extract_links, storage_options, **kwargs)\u001b[0m\n\u001b[1;32m    981\u001b[0m \u001b[0;34m\u001b[0m\u001b[0m\n\u001b[1;32m    982\u001b[0m         \u001b[0;32mtry\u001b[0m\u001b[0;34m:\u001b[0m\u001b[0;34m\u001b[0m\u001b[0;34m\u001b[0m\u001b[0m\n\u001b[0;32m--> 983\u001b[0;31m             \u001b[0mtables\u001b[0m \u001b[0;34m=\u001b[0m \u001b[0mp\u001b[0m\u001b[0;34m.\u001b[0m\u001b[0mparse_tables\u001b[0m\u001b[0;34m(\u001b[0m\u001b[0;34m)\u001b[0m\u001b[0;34m\u001b[0m\u001b[0;34m\u001b[0m\u001b[0m\n\u001b[0m\u001b[1;32m    984\u001b[0m         \u001b[0;32mexcept\u001b[0m \u001b[0mValueError\u001b[0m \u001b[0;32mas\u001b[0m \u001b[0mcaught\u001b[0m\u001b[0;34m:\u001b[0m\u001b[0;34m\u001b[0m\u001b[0;34m\u001b[0m\u001b[0m\n\u001b[1;32m    985\u001b[0m             \u001b[0;31m# if `io` is an io-like object, check if it's seekable\u001b[0m\u001b[0;34m\u001b[0m\u001b[0;34m\u001b[0m\u001b[0m\n",
            "\u001b[0;32m/usr/local/lib/python3.11/dist-packages/pandas/io/html.py\u001b[0m in \u001b[0;36mparse_tables\u001b[0;34m(self)\u001b[0m\n\u001b[1;32m    247\u001b[0m         \u001b[0mlist\u001b[0m \u001b[0mof\u001b[0m \u001b[0mparsed\u001b[0m \u001b[0;34m(\u001b[0m\u001b[0mheader\u001b[0m\u001b[0;34m,\u001b[0m \u001b[0mbody\u001b[0m\u001b[0;34m,\u001b[0m \u001b[0mfooter\u001b[0m\u001b[0;34m)\u001b[0m \u001b[0mtuples\u001b[0m \u001b[0;32mfrom\u001b[0m \u001b[0mtables\u001b[0m\u001b[0;34m.\u001b[0m\u001b[0;34m\u001b[0m\u001b[0;34m\u001b[0m\u001b[0m\n\u001b[1;32m    248\u001b[0m         \"\"\"\n\u001b[0;32m--> 249\u001b[0;31m         \u001b[0mtables\u001b[0m \u001b[0;34m=\u001b[0m \u001b[0mself\u001b[0m\u001b[0;34m.\u001b[0m\u001b[0m_parse_tables\u001b[0m\u001b[0;34m(\u001b[0m\u001b[0mself\u001b[0m\u001b[0;34m.\u001b[0m\u001b[0m_build_doc\u001b[0m\u001b[0;34m(\u001b[0m\u001b[0;34m)\u001b[0m\u001b[0;34m,\u001b[0m \u001b[0mself\u001b[0m\u001b[0;34m.\u001b[0m\u001b[0mmatch\u001b[0m\u001b[0;34m,\u001b[0m \u001b[0mself\u001b[0m\u001b[0;34m.\u001b[0m\u001b[0mattrs\u001b[0m\u001b[0;34m)\u001b[0m\u001b[0;34m\u001b[0m\u001b[0;34m\u001b[0m\u001b[0m\n\u001b[0m\u001b[1;32m    250\u001b[0m         \u001b[0;32mreturn\u001b[0m \u001b[0;34m(\u001b[0m\u001b[0mself\u001b[0m\u001b[0;34m.\u001b[0m\u001b[0m_parse_thead_tbody_tfoot\u001b[0m\u001b[0;34m(\u001b[0m\u001b[0mtable\u001b[0m\u001b[0;34m)\u001b[0m \u001b[0;32mfor\u001b[0m \u001b[0mtable\u001b[0m \u001b[0;32min\u001b[0m \u001b[0mtables\u001b[0m\u001b[0;34m)\u001b[0m\u001b[0;34m\u001b[0m\u001b[0;34m\u001b[0m\u001b[0m\n\u001b[1;32m    251\u001b[0m \u001b[0;34m\u001b[0m\u001b[0m\n",
            "\u001b[0;32m/usr/local/lib/python3.11/dist-packages/pandas/io/html.py\u001b[0m in \u001b[0;36m_build_doc\u001b[0;34m(self)\u001b[0m\n\u001b[1;32m    804\u001b[0m                     \u001b[0;32mpass\u001b[0m\u001b[0;34m\u001b[0m\u001b[0;34m\u001b[0m\u001b[0m\n\u001b[1;32m    805\u001b[0m             \u001b[0;32melse\u001b[0m\u001b[0;34m:\u001b[0m\u001b[0;34m\u001b[0m\u001b[0;34m\u001b[0m\u001b[0m\n\u001b[0;32m--> 806\u001b[0;31m                 \u001b[0;32mraise\u001b[0m \u001b[0me\u001b[0m\u001b[0;34m\u001b[0m\u001b[0;34m\u001b[0m\u001b[0m\n\u001b[0m\u001b[1;32m    807\u001b[0m         \u001b[0;32melse\u001b[0m\u001b[0;34m:\u001b[0m\u001b[0;34m\u001b[0m\u001b[0;34m\u001b[0m\u001b[0m\n\u001b[1;32m    808\u001b[0m             \u001b[0;32mif\u001b[0m \u001b[0;32mnot\u001b[0m \u001b[0mhasattr\u001b[0m\u001b[0;34m(\u001b[0m\u001b[0mr\u001b[0m\u001b[0;34m,\u001b[0m \u001b[0;34m\"text_content\"\u001b[0m\u001b[0;34m)\u001b[0m\u001b[0;34m:\u001b[0m\u001b[0;34m\u001b[0m\u001b[0;34m\u001b[0m\u001b[0m\n",
            "\u001b[0;32m/usr/local/lib/python3.11/dist-packages/pandas/io/html.py\u001b[0m in \u001b[0;36m_build_doc\u001b[0;34m(self)\u001b[0m\n\u001b[1;32m    783\u001b[0m         \u001b[0;32mtry\u001b[0m\u001b[0;34m:\u001b[0m\u001b[0;34m\u001b[0m\u001b[0;34m\u001b[0m\u001b[0m\n\u001b[1;32m    784\u001b[0m             \u001b[0;32mif\u001b[0m \u001b[0mis_url\u001b[0m\u001b[0;34m(\u001b[0m\u001b[0mself\u001b[0m\u001b[0;34m.\u001b[0m\u001b[0mio\u001b[0m\u001b[0;34m)\u001b[0m\u001b[0;34m:\u001b[0m\u001b[0;34m\u001b[0m\u001b[0;34m\u001b[0m\u001b[0m\n\u001b[0;32m--> 785\u001b[0;31m                 with get_handle(\n\u001b[0m\u001b[1;32m    786\u001b[0m                     \u001b[0mself\u001b[0m\u001b[0;34m.\u001b[0m\u001b[0mio\u001b[0m\u001b[0;34m,\u001b[0m \u001b[0;34m\"r\"\u001b[0m\u001b[0;34m,\u001b[0m \u001b[0mstorage_options\u001b[0m\u001b[0;34m=\u001b[0m\u001b[0mself\u001b[0m\u001b[0;34m.\u001b[0m\u001b[0mstorage_options\u001b[0m\u001b[0;34m\u001b[0m\u001b[0;34m\u001b[0m\u001b[0m\n\u001b[1;32m    787\u001b[0m                 ) as f:\n",
            "\u001b[0;32m/usr/local/lib/python3.11/dist-packages/pandas/io/common.py\u001b[0m in \u001b[0;36mget_handle\u001b[0;34m(path_or_buf, mode, encoding, compression, memory_map, is_text, errors, storage_options)\u001b[0m\n\u001b[1;32m    726\u001b[0m \u001b[0;34m\u001b[0m\u001b[0m\n\u001b[1;32m    727\u001b[0m     \u001b[0;31m# open URLs\u001b[0m\u001b[0;34m\u001b[0m\u001b[0;34m\u001b[0m\u001b[0m\n\u001b[0;32m--> 728\u001b[0;31m     ioargs = _get_filepath_or_buffer(\n\u001b[0m\u001b[1;32m    729\u001b[0m         \u001b[0mpath_or_buf\u001b[0m\u001b[0;34m,\u001b[0m\u001b[0;34m\u001b[0m\u001b[0;34m\u001b[0m\u001b[0m\n\u001b[1;32m    730\u001b[0m         \u001b[0mencoding\u001b[0m\u001b[0;34m=\u001b[0m\u001b[0mencoding\u001b[0m\u001b[0;34m,\u001b[0m\u001b[0;34m\u001b[0m\u001b[0;34m\u001b[0m\u001b[0m\n",
            "\u001b[0;32m/usr/local/lib/python3.11/dist-packages/pandas/io/common.py\u001b[0m in \u001b[0;36m_get_filepath_or_buffer\u001b[0;34m(filepath_or_buffer, encoding, compression, mode, storage_options)\u001b[0m\n\u001b[1;32m    382\u001b[0m         \u001b[0;31m# assuming storage_options is to be interpreted as headers\u001b[0m\u001b[0;34m\u001b[0m\u001b[0;34m\u001b[0m\u001b[0m\n\u001b[1;32m    383\u001b[0m         \u001b[0mreq_info\u001b[0m \u001b[0;34m=\u001b[0m \u001b[0murllib\u001b[0m\u001b[0;34m.\u001b[0m\u001b[0mrequest\u001b[0m\u001b[0;34m.\u001b[0m\u001b[0mRequest\u001b[0m\u001b[0;34m(\u001b[0m\u001b[0mfilepath_or_buffer\u001b[0m\u001b[0;34m,\u001b[0m \u001b[0mheaders\u001b[0m\u001b[0;34m=\u001b[0m\u001b[0mstorage_options\u001b[0m\u001b[0;34m)\u001b[0m\u001b[0;34m\u001b[0m\u001b[0;34m\u001b[0m\u001b[0m\n\u001b[0;32m--> 384\u001b[0;31m         \u001b[0;32mwith\u001b[0m \u001b[0murlopen\u001b[0m\u001b[0;34m(\u001b[0m\u001b[0mreq_info\u001b[0m\u001b[0;34m)\u001b[0m \u001b[0;32mas\u001b[0m \u001b[0mreq\u001b[0m\u001b[0;34m:\u001b[0m\u001b[0;34m\u001b[0m\u001b[0;34m\u001b[0m\u001b[0m\n\u001b[0m\u001b[1;32m    385\u001b[0m             \u001b[0mcontent_encoding\u001b[0m \u001b[0;34m=\u001b[0m \u001b[0mreq\u001b[0m\u001b[0;34m.\u001b[0m\u001b[0mheaders\u001b[0m\u001b[0;34m.\u001b[0m\u001b[0mget\u001b[0m\u001b[0;34m(\u001b[0m\u001b[0;34m\"Content-Encoding\"\u001b[0m\u001b[0;34m,\u001b[0m \u001b[0;32mNone\u001b[0m\u001b[0;34m)\u001b[0m\u001b[0;34m\u001b[0m\u001b[0;34m\u001b[0m\u001b[0m\n\u001b[1;32m    386\u001b[0m             \u001b[0;32mif\u001b[0m \u001b[0mcontent_encoding\u001b[0m \u001b[0;34m==\u001b[0m \u001b[0;34m\"gzip\"\u001b[0m\u001b[0;34m:\u001b[0m\u001b[0;34m\u001b[0m\u001b[0;34m\u001b[0m\u001b[0m\n",
            "\u001b[0;32m/usr/local/lib/python3.11/dist-packages/pandas/io/common.py\u001b[0m in \u001b[0;36murlopen\u001b[0;34m(*args, **kwargs)\u001b[0m\n\u001b[1;32m    287\u001b[0m     \u001b[0;32mimport\u001b[0m \u001b[0murllib\u001b[0m\u001b[0;34m.\u001b[0m\u001b[0mrequest\u001b[0m\u001b[0;34m\u001b[0m\u001b[0;34m\u001b[0m\u001b[0m\n\u001b[1;32m    288\u001b[0m \u001b[0;34m\u001b[0m\u001b[0m\n\u001b[0;32m--> 289\u001b[0;31m     \u001b[0;32mreturn\u001b[0m \u001b[0murllib\u001b[0m\u001b[0;34m.\u001b[0m\u001b[0mrequest\u001b[0m\u001b[0;34m.\u001b[0m\u001b[0murlopen\u001b[0m\u001b[0;34m(\u001b[0m\u001b[0;34m*\u001b[0m\u001b[0margs\u001b[0m\u001b[0;34m,\u001b[0m \u001b[0;34m**\u001b[0m\u001b[0mkwargs\u001b[0m\u001b[0;34m)\u001b[0m\u001b[0;34m\u001b[0m\u001b[0;34m\u001b[0m\u001b[0m\n\u001b[0m\u001b[1;32m    290\u001b[0m \u001b[0;34m\u001b[0m\u001b[0m\n\u001b[1;32m    291\u001b[0m \u001b[0;34m\u001b[0m\u001b[0m\n",
            "\u001b[0;32m/usr/lib/python3.11/urllib/request.py\u001b[0m in \u001b[0;36murlopen\u001b[0;34m(url, data, timeout, cafile, capath, cadefault, context)\u001b[0m\n\u001b[1;32m    214\u001b[0m     \u001b[0;32melse\u001b[0m\u001b[0;34m:\u001b[0m\u001b[0;34m\u001b[0m\u001b[0;34m\u001b[0m\u001b[0m\n\u001b[1;32m    215\u001b[0m         \u001b[0mopener\u001b[0m \u001b[0;34m=\u001b[0m \u001b[0m_opener\u001b[0m\u001b[0;34m\u001b[0m\u001b[0;34m\u001b[0m\u001b[0m\n\u001b[0;32m--> 216\u001b[0;31m     \u001b[0;32mreturn\u001b[0m \u001b[0mopener\u001b[0m\u001b[0;34m.\u001b[0m\u001b[0mopen\u001b[0m\u001b[0;34m(\u001b[0m\u001b[0murl\u001b[0m\u001b[0;34m,\u001b[0m \u001b[0mdata\u001b[0m\u001b[0;34m,\u001b[0m \u001b[0mtimeout\u001b[0m\u001b[0;34m)\u001b[0m\u001b[0;34m\u001b[0m\u001b[0;34m\u001b[0m\u001b[0m\n\u001b[0m\u001b[1;32m    217\u001b[0m \u001b[0;34m\u001b[0m\u001b[0m\n\u001b[1;32m    218\u001b[0m \u001b[0;32mdef\u001b[0m \u001b[0minstall_opener\u001b[0m\u001b[0;34m(\u001b[0m\u001b[0mopener\u001b[0m\u001b[0;34m)\u001b[0m\u001b[0;34m:\u001b[0m\u001b[0;34m\u001b[0m\u001b[0;34m\u001b[0m\u001b[0m\n",
            "\u001b[0;32m/usr/lib/python3.11/urllib/request.py\u001b[0m in \u001b[0;36mopen\u001b[0;34m(self, fullurl, data, timeout)\u001b[0m\n\u001b[1;32m    523\u001b[0m         \u001b[0;32mfor\u001b[0m \u001b[0mprocessor\u001b[0m \u001b[0;32min\u001b[0m \u001b[0mself\u001b[0m\u001b[0;34m.\u001b[0m\u001b[0mprocess_response\u001b[0m\u001b[0;34m.\u001b[0m\u001b[0mget\u001b[0m\u001b[0;34m(\u001b[0m\u001b[0mprotocol\u001b[0m\u001b[0;34m,\u001b[0m \u001b[0;34m[\u001b[0m\u001b[0;34m]\u001b[0m\u001b[0;34m)\u001b[0m\u001b[0;34m:\u001b[0m\u001b[0;34m\u001b[0m\u001b[0;34m\u001b[0m\u001b[0m\n\u001b[1;32m    524\u001b[0m             \u001b[0mmeth\u001b[0m \u001b[0;34m=\u001b[0m \u001b[0mgetattr\u001b[0m\u001b[0;34m(\u001b[0m\u001b[0mprocessor\u001b[0m\u001b[0;34m,\u001b[0m \u001b[0mmeth_name\u001b[0m\u001b[0;34m)\u001b[0m\u001b[0;34m\u001b[0m\u001b[0;34m\u001b[0m\u001b[0m\n\u001b[0;32m--> 525\u001b[0;31m             \u001b[0mresponse\u001b[0m \u001b[0;34m=\u001b[0m \u001b[0mmeth\u001b[0m\u001b[0;34m(\u001b[0m\u001b[0mreq\u001b[0m\u001b[0;34m,\u001b[0m \u001b[0mresponse\u001b[0m\u001b[0;34m)\u001b[0m\u001b[0;34m\u001b[0m\u001b[0;34m\u001b[0m\u001b[0m\n\u001b[0m\u001b[1;32m    526\u001b[0m \u001b[0;34m\u001b[0m\u001b[0m\n\u001b[1;32m    527\u001b[0m         \u001b[0;32mreturn\u001b[0m \u001b[0mresponse\u001b[0m\u001b[0;34m\u001b[0m\u001b[0;34m\u001b[0m\u001b[0m\n",
            "\u001b[0;32m/usr/lib/python3.11/urllib/request.py\u001b[0m in \u001b[0;36mhttp_response\u001b[0;34m(self, request, response)\u001b[0m\n\u001b[1;32m    632\u001b[0m         \u001b[0;31m# request was successfully received, understood, and accepted.\u001b[0m\u001b[0;34m\u001b[0m\u001b[0;34m\u001b[0m\u001b[0m\n\u001b[1;32m    633\u001b[0m         \u001b[0;32mif\u001b[0m \u001b[0;32mnot\u001b[0m \u001b[0;34m(\u001b[0m\u001b[0;36m200\u001b[0m \u001b[0;34m<=\u001b[0m \u001b[0mcode\u001b[0m \u001b[0;34m<\u001b[0m \u001b[0;36m300\u001b[0m\u001b[0;34m)\u001b[0m\u001b[0;34m:\u001b[0m\u001b[0;34m\u001b[0m\u001b[0;34m\u001b[0m\u001b[0m\n\u001b[0;32m--> 634\u001b[0;31m             response = self.parent.error(\n\u001b[0m\u001b[1;32m    635\u001b[0m                 'http', request, response, code, msg, hdrs)\n\u001b[1;32m    636\u001b[0m \u001b[0;34m\u001b[0m\u001b[0m\n",
            "\u001b[0;32m/usr/lib/python3.11/urllib/request.py\u001b[0m in \u001b[0;36merror\u001b[0;34m(self, proto, *args)\u001b[0m\n\u001b[1;32m    561\u001b[0m         \u001b[0;32mif\u001b[0m \u001b[0mhttp_err\u001b[0m\u001b[0;34m:\u001b[0m\u001b[0;34m\u001b[0m\u001b[0;34m\u001b[0m\u001b[0m\n\u001b[1;32m    562\u001b[0m             \u001b[0margs\u001b[0m \u001b[0;34m=\u001b[0m \u001b[0;34m(\u001b[0m\u001b[0mdict\u001b[0m\u001b[0;34m,\u001b[0m \u001b[0;34m'default'\u001b[0m\u001b[0;34m,\u001b[0m \u001b[0;34m'http_error_default'\u001b[0m\u001b[0;34m)\u001b[0m \u001b[0;34m+\u001b[0m \u001b[0morig_args\u001b[0m\u001b[0;34m\u001b[0m\u001b[0;34m\u001b[0m\u001b[0m\n\u001b[0;32m--> 563\u001b[0;31m             \u001b[0;32mreturn\u001b[0m \u001b[0mself\u001b[0m\u001b[0;34m.\u001b[0m\u001b[0m_call_chain\u001b[0m\u001b[0;34m(\u001b[0m\u001b[0;34m*\u001b[0m\u001b[0margs\u001b[0m\u001b[0;34m)\u001b[0m\u001b[0;34m\u001b[0m\u001b[0;34m\u001b[0m\u001b[0m\n\u001b[0m\u001b[1;32m    564\u001b[0m \u001b[0;34m\u001b[0m\u001b[0m\n\u001b[1;32m    565\u001b[0m \u001b[0;31m# XXX probably also want an abstract factory that knows when it makes\u001b[0m\u001b[0;34m\u001b[0m\u001b[0;34m\u001b[0m\u001b[0m\n",
            "\u001b[0;32m/usr/lib/python3.11/urllib/request.py\u001b[0m in \u001b[0;36m_call_chain\u001b[0;34m(self, chain, kind, meth_name, *args)\u001b[0m\n\u001b[1;32m    494\u001b[0m         \u001b[0;32mfor\u001b[0m \u001b[0mhandler\u001b[0m \u001b[0;32min\u001b[0m \u001b[0mhandlers\u001b[0m\u001b[0;34m:\u001b[0m\u001b[0;34m\u001b[0m\u001b[0;34m\u001b[0m\u001b[0m\n\u001b[1;32m    495\u001b[0m             \u001b[0mfunc\u001b[0m \u001b[0;34m=\u001b[0m \u001b[0mgetattr\u001b[0m\u001b[0;34m(\u001b[0m\u001b[0mhandler\u001b[0m\u001b[0;34m,\u001b[0m \u001b[0mmeth_name\u001b[0m\u001b[0;34m)\u001b[0m\u001b[0;34m\u001b[0m\u001b[0;34m\u001b[0m\u001b[0m\n\u001b[0;32m--> 496\u001b[0;31m             \u001b[0mresult\u001b[0m \u001b[0;34m=\u001b[0m \u001b[0mfunc\u001b[0m\u001b[0;34m(\u001b[0m\u001b[0;34m*\u001b[0m\u001b[0margs\u001b[0m\u001b[0;34m)\u001b[0m\u001b[0;34m\u001b[0m\u001b[0;34m\u001b[0m\u001b[0m\n\u001b[0m\u001b[1;32m    497\u001b[0m             \u001b[0;32mif\u001b[0m \u001b[0mresult\u001b[0m \u001b[0;32mis\u001b[0m \u001b[0;32mnot\u001b[0m \u001b[0;32mNone\u001b[0m\u001b[0;34m:\u001b[0m\u001b[0;34m\u001b[0m\u001b[0;34m\u001b[0m\u001b[0m\n\u001b[1;32m    498\u001b[0m                 \u001b[0;32mreturn\u001b[0m \u001b[0mresult\u001b[0m\u001b[0;34m\u001b[0m\u001b[0;34m\u001b[0m\u001b[0m\n",
            "\u001b[0;32m/usr/lib/python3.11/urllib/request.py\u001b[0m in \u001b[0;36mhttp_error_default\u001b[0;34m(self, req, fp, code, msg, hdrs)\u001b[0m\n\u001b[1;32m    641\u001b[0m \u001b[0;32mclass\u001b[0m \u001b[0mHTTPDefaultErrorHandler\u001b[0m\u001b[0;34m(\u001b[0m\u001b[0mBaseHandler\u001b[0m\u001b[0;34m)\u001b[0m\u001b[0;34m:\u001b[0m\u001b[0;34m\u001b[0m\u001b[0;34m\u001b[0m\u001b[0m\n\u001b[1;32m    642\u001b[0m     \u001b[0;32mdef\u001b[0m \u001b[0mhttp_error_default\u001b[0m\u001b[0;34m(\u001b[0m\u001b[0mself\u001b[0m\u001b[0;34m,\u001b[0m \u001b[0mreq\u001b[0m\u001b[0;34m,\u001b[0m \u001b[0mfp\u001b[0m\u001b[0;34m,\u001b[0m \u001b[0mcode\u001b[0m\u001b[0;34m,\u001b[0m \u001b[0mmsg\u001b[0m\u001b[0;34m,\u001b[0m \u001b[0mhdrs\u001b[0m\u001b[0;34m)\u001b[0m\u001b[0;34m:\u001b[0m\u001b[0;34m\u001b[0m\u001b[0;34m\u001b[0m\u001b[0m\n\u001b[0;32m--> 643\u001b[0;31m         \u001b[0;32mraise\u001b[0m \u001b[0mHTTPError\u001b[0m\u001b[0;34m(\u001b[0m\u001b[0mreq\u001b[0m\u001b[0;34m.\u001b[0m\u001b[0mfull_url\u001b[0m\u001b[0;34m,\u001b[0m \u001b[0mcode\u001b[0m\u001b[0;34m,\u001b[0m \u001b[0mmsg\u001b[0m\u001b[0;34m,\u001b[0m \u001b[0mhdrs\u001b[0m\u001b[0;34m,\u001b[0m \u001b[0mfp\u001b[0m\u001b[0;34m)\u001b[0m\u001b[0;34m\u001b[0m\u001b[0;34m\u001b[0m\u001b[0m\n\u001b[0m\u001b[1;32m    644\u001b[0m \u001b[0;34m\u001b[0m\u001b[0m\n\u001b[1;32m    645\u001b[0m \u001b[0;32mclass\u001b[0m \u001b[0mHTTPRedirectHandler\u001b[0m\u001b[0;34m(\u001b[0m\u001b[0mBaseHandler\u001b[0m\u001b[0;34m)\u001b[0m\u001b[0;34m:\u001b[0m\u001b[0;34m\u001b[0m\u001b[0;34m\u001b[0m\u001b[0m\n",
            "\u001b[0;31mHTTPError\u001b[0m: HTTP Error 404: Not Found"
          ]
        }
      ]
    },
    {
      "cell_type": "code",
      "source": [
        "structured_data = []\n",
        "for match in season_data:\n",
        "    home_team, home_possession, home_passes, home_shots, home_saves = match[0]\n",
        "    away_team, away_possession, away_passes, away_shots, away_saves = match[1]\n",
        "\n",
        "    structured_data.append({\n",
        "        \"home\": home_team,\n",
        "        \"away\": away_team,\n",
        "        \"posesión_home\": home_possession,\n",
        "        \"posesión_away\": away_possession,\n",
        "        \"pases_home\": home_passes,\n",
        "        \"pases_away\": away_passes,\n",
        "        \"disparos_home\": home_shots,\n",
        "        \"disparos_away\": away_shots,\n",
        "    })\n",
        "\n",
        "# Creating DataFrame\n",
        "df = pd.DataFrame(structured_data)\n",
        "df.to_csv(\"estadisticas_23_24.csv\")"
      ],
      "metadata": {
        "id": "VezpJw3yUf2Q"
      },
      "execution_count": null,
      "outputs": []
    },
    {
      "cell_type": "code",
      "source": [],
      "metadata": {
        "id": "bgiGarISjFCO"
      },
      "execution_count": null,
      "outputs": []
    },
    {
      "cell_type": "markdown",
      "source": [
        "# Agregado de datos"
      ],
      "metadata": {
        "id": "kFMS8owhjMfT"
      }
    },
    {
      "cell_type": "code",
      "source": [
        "def split_shots_column(csv_file, team, exp):\n",
        "    df = csv_file\n",
        "\n",
        "    # Function to extract shots, shots_on_target, and pct_shots_on_target\n",
        "    def extract_shots_data(value):\n",
        "        match = re.match(exp, str(value))\n",
        "        if match:\n",
        "          if team == \"home\":\n",
        "            shots_on_target, shots, pct_shots_on_target = match.groups()\n",
        "            return int(shots), int(shots_on_target), (int(pct_shots_on_target) / 100)\n",
        "          else:\n",
        "            pct_shots_on_target, shots_on_target, shots  = match.groups()\n",
        "            return int(shots), int(shots_on_target), (int(pct_shots_on_target) / 100)\n",
        "        return None, None, None  # Handle missing or malformed data\n",
        "\n",
        "    df[[f\"{team}_shots\", f\"{team}_shots_on_target\", f\"{team}_shot_accuracy\"]] = df[f\"disparos_{team}\"].apply(lambda x: pd.Series(extract_shots_data(x)))\n",
        "\n",
        "    df.drop(columns=[f\"disparos_{team}\"], inplace=True)\n",
        "\n",
        "    return df\n",
        "\n",
        "def split_passes_column(csv_file, team, exp):\n",
        "    df = csv_file\n",
        "\n",
        "    def extract_passes_data(value):\n",
        "        match = re.match(exp, str(value))\n",
        "        if match:\n",
        "          if team == \"home\":\n",
        "            completed_passes, passes, passing_accuracy = match.groups()\n",
        "            return int(passes), int(completed_passes), (int(passing_accuracy) / 100)\n",
        "          else:\n",
        "            passing_accuracy, completed_passes, passes  = match.groups()\n",
        "            return int(passes), int(completed_passes), (int(passing_accuracy) / 100)\n",
        "        return None, None, None  # Handle missing or malformed data\n",
        "\n",
        "    # Apply extraction function to \"disparos_home\" column\n",
        "    df[[f\"{team}_passes\", f\"{team}_completed_passes\", f\"{team}_passing_accuracy\"]] = df[f\"pases_{team}\"].apply(lambda x: pd.Series(extract_passes_data(x)))\n",
        "\n",
        "    df.drop(columns=[f\"pases_{team}\"], inplace=True)\n",
        "\n",
        "    return df"
      ],
      "metadata": {
        "id": "hkBmyFGpnRov"
      },
      "execution_count": null,
      "outputs": []
    },
    {
      "cell_type": "code",
      "source": [
        "def merge_csv_columns(partidos_csv, estadisticas_csv, columns_to_add):\n",
        "    # Load the CSV files into DataFrames\n",
        "    source_df = pd.read_csv(estadisticas_csv, usecols=columns_to_add)\n",
        "    target_df = pd.read_csv(partidos_csv)\n",
        "\n",
        "    # Ensure both DataFrames have the same number of rows\n",
        "    if len(source_df) != len(target_df):\n",
        "        raise ValueError(\"The two CSV files must have the same number of rows.\")\n",
        "\n",
        "    # Concatenate columns from source_df to target_df\n",
        "    merged_df = pd.concat([target_df, source_df], axis=1)\n",
        "\n",
        "    # drop unused columns\n",
        "    # merged_df.drop(columns=[\"salvadas_home\", \"salvadas_away\"], inplace=True)\n",
        "\n",
        "    # cast percentage to float\n",
        "    merged_df[\"posesión_home\"] = merged_df[\"posesión_home\"].str.rstrip(\"%\").astype(float) / 100\n",
        "    merged_df[\"posesión_away\"] = merged_df[\"posesión_away\"].str.rstrip(\"%\").astype(float) / 100\n",
        "\n",
        "    # Save the result to a new CSV file\n",
        "    return merged_df"
      ],
      "metadata": {
        "id": "KpyCYX_7jSaT"
      },
      "execution_count": null,
      "outputs": []
    },
    {
      "cell_type": "code",
      "source": [
        "data = merge_csv_columns(\"la_liga_temp_18_19.csv\", \"estadisticas_18_19.csv\" , [\"posesión_home\", \"posesión_away\", \"pases_home\", \"pases_away\", \"disparos_home\", \"disparos_away\"])\n",
        "data = split_shots_column(data, \"home\", r\"(\\d+) of (\\d+)\\s+—\\s+(\\d+)%\")\n",
        "data = split_shots_column(data, \"away\", r\"(\\d+)%\\s+—\\s+(\\d+)\\s+of\\s+(\\d+)\")\n",
        "data = split_passes_column(data, \"home\", r\"(\\d+)\\s+of\\s+(\\d+)\\s+—\\s+(\\d+)%\")\n",
        "data = split_passes_column(data, \"away\", r\"(\\d+)%\\s+—\\s+(\\d+)\\s+of\\s+(\\d+)\")\n",
        "data.to_csv(\"la_liga_temp_18_19_ext.csv\")"
      ],
      "metadata": {
        "id": "ui0c5jj2nsDW"
      },
      "execution_count": null,
      "outputs": []
    },
    {
      "cell_type": "code",
      "source": [
        "# Combinar los resultados\n",
        "def merge_csv_files(output_csv):\n",
        "    # Get all CSV files in the folder\n",
        "    csv_files = glob.glob(\"datasets/*.csv\")\n",
        "\n",
        "    if not csv_files:\n",
        "        print(\"No CSV files found in the folder.\")\n",
        "        return\n",
        "\n",
        "    df = pd.read_csv(csv_files[0])\n",
        "\n",
        "    # Read the remaining CSV files without headers (use header=None and set column names)\n",
        "    df_list = [df]  # Store the first DataFrame\n",
        "\n",
        "    for file in csv_files[1:]:\n",
        "        temp_df = pd.read_csv(file, header=None)  # Read without headers\n",
        "        df_list.append(temp_df)  # Append to list\n",
        "\n",
        "    # Concatenate all DataFrames\n",
        "    merged_df = pd.concat(df_list, ignore_index=True)\n",
        "\n",
        "    # Save the merged DataFrame to a new CSV file\n",
        "    merged_df.to_csv(output_csv, index=False)\n",
        "\n",
        "    print(f\"Successfully merged {len(csv_files)} CSV files into {output_csv}\")"
      ],
      "metadata": {
        "id": "keDHW0APath4"
      },
      "execution_count": null,
      "outputs": []
    },
    {
      "cell_type": "code",
      "source": [
        "merge_csv_files(\"la_liga_temp_19_24_ext.csv\")"
      ],
      "metadata": {
        "colab": {
          "base_uri": "https://localhost:8080/"
        },
        "id": "lTvP4CJGbD3R",
        "outputId": "8e52fa60-4cfc-4f5a-8ef0-6162de5ee8c6"
      },
      "execution_count": null,
      "outputs": [
        {
          "output_type": "stream",
          "name": "stdout",
          "text": [
            "Successfully merged 5 CSV files into la_liga_temp_19_24_ext.csv\n"
          ]
        }
      ]
    }
  ]
}